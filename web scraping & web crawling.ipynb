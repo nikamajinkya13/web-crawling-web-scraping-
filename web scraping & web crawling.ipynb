{
 "cells": [
  {
   "cell_type": "code",
   "execution_count": 8,
   "id": "golden-plumbing",
   "metadata": {},
   "outputs": [],
   "source": [
    "import csv\n",
    "from bs4 import BeautifulSoup\n",
    "from msedge.selenium_tools import Edge, EdgeOptions\n",
    "\n",
    "def get_url(search_term):\n",
    "    template = 'https://www.amazon.in/s?k={}&ref=nb_sb_noss_1'\n",
    "    search_term = search_term.replace(' ','+')\n",
    "    \n",
    "    url = template.format(search_term)\n",
    "    url += '&page{}'\n",
    "    \n",
    "    return url\n",
    "\n",
    "def extract_record(item):\n",
    "    atag= item.h2.a\n",
    "    description = atag.text.strip()\n",
    "    url = 'https://www.amazon.in/'+atag.get('href')\n",
    "    \n",
    "    try:\n",
    "        price_parent = item.find('span','a-price')\n",
    "        price = price_parent.find('span','a-offscreen').text\n",
    "    except AttributeError:\n",
    "        return\n",
    "    \n",
    "    try:\n",
    "        rating = item.i.text\n",
    "        review_count = item.find('span',{'class':'a-size-base','dir':'auto'}).text\n",
    "    except AttributeError:\n",
    "        rating = ''\n",
    "        review_count=''\n",
    "    \n",
    "    result=(description, price, rating, review_count, url)\n",
    "    \n",
    "    return result\n",
    "\n",
    "def main(search_term):\n",
    "    options= EdgeOptions()\n",
    "    options.use_chromium = True\n",
    "    driver = Edge(options=options)\n",
    "    \n",
    "    records = []\n",
    "    url= get_url(search_term)\n",
    "    \n",
    "    for page in range(1, 21):\n",
    "        driver.get(url.format(page))\n",
    "        soup = BeautifulSoup(driver.page_source,'html.parser')\n",
    "        results = soup.find_all('div',{'data-component-type':'s-search-result'})\n",
    "        \n",
    "        for item in results:\n",
    "            record = extract_record(item)\n",
    "            if record:\n",
    "                records.append(record)\n",
    "                \n",
    "    driver.close()\n",
    "    \n",
    "    with open('results.csv','w',newline='', encoding='utf-8') as f:\n",
    "        writer = csv.writer(f)\n",
    "        writer.writerow(['Description','Price','Rating','ReviewCount','Url'])\n",
    "        writer.writerows(records)\n",
    "    "
   ]
  },
  {
   "cell_type": "code",
   "execution_count": 9,
   "id": "reliable-voltage",
   "metadata": {},
   "outputs": [],
   "source": [
    "main('ultrawide monitor')"
   ]
  }
 ],
 "metadata": {
  "kernelspec": {
   "display_name": "Python 3",
   "language": "python",
   "name": "python3"
  },
  "language_info": {
   "codemirror_mode": {
    "name": "ipython",
    "version": 3
   },
   "file_extension": ".py",
   "mimetype": "text/x-python",
   "name": "python",
   "nbconvert_exporter": "python",
   "pygments_lexer": "ipython3",
   "version": "3.9.2"
  }
 },
 "nbformat": 4,
 "nbformat_minor": 5
}
